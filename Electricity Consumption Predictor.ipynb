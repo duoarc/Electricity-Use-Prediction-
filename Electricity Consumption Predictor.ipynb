{
 "cells": [
  {
   "cell_type": "markdown",
   "metadata": {},
   "source": [
    "# Electricity Consumption Predictor "
   ]
  },
  {
   "cell_type": "markdown",
   "metadata": {},
   "source": [
    "This project seeks to predict the electricity consumption in various nigerian cities and states using simple machine \n",
    "\n",
    "learning algorithm. The data available at this time is from the REA database. The expected outcome of the project are \n",
    "\n",
    "interactive dashboards and a simple web app, showing past and projected consumption levels. Factors which many affect the \n",
    "\n",
    "projected levels in any location which we may be able to infer from the data are future mini grids. Factors which many \n",
    "\n",
    "affect the projected levels in any location which we may require more data to analyse are population growth rate. "
   ]
  },
  {
   "cell_type": "code",
   "execution_count": null,
   "metadata": {},
   "outputs": [],
   "source": [
    "#import data and save as dataframes \n",
    "import pandas as pd     \n",
    "#import glob\n",
    "import json\n",
    "\n",
    "\"\"\"database = {}\n",
    "\n",
    "for filename in glob.glob('REA energy db\\*.json'):\n",
    "    database[filename[14:-5]] = pd.read_json(filename)\n",
    "    \n",
    "print (database)\"\"\"\n",
    "#c = json.load('REA energy db\\existing_gas_lines.json')\n",
    "\n",
    "#Build a function to import the json data to pandas dataframe\n",
    "def import_json(path):\n",
    "    \n",
    "    with open(path) as json_data: \n",
    "        data = json.load(json_data)  #load json to python \n",
    "        \n",
    "    lst = []  #create an empty list\n",
    "    lst2 = []\n",
    "    c = 0\n",
    "    #loop through 'features' and build dataframe\n",
    "    for i in data['features']:\n",
    "        lst.append(pd.DataFrame(i['properties'],index=[0])) #Convert each 'property' feature to a dataframe\n",
    "        #lst2.append(pd.DataFrame(i['geometry']['coordinates'])) #Convert each 'geometry' feature to a dataframe\n",
    "        \n",
    "        \n",
    "        df = pd.concat(lst, ignore_index = True, sort=False)  #Concatenate the dataframes\n",
    "        #df2 = pd.concat(lst2, ignore_index = True, sort=False)\n",
    "    return pd.concat([df],axis=1)\n",
    "\n",
    "df = import_json('REA energy db\\distribution_infrastructure.json')\n",
    "print (df.head(), df.tail(), df.info())\n",
    "\n",
    "\n"
   ]
  },
  {
   "cell_type": "code",
   "execution_count": 32,
   "metadata": {},
   "outputs": [
    {
     "name": "stdout",
     "output_type": "stream",
     "text": [
      "[\n"
     ]
    }
   ],
   "source": [
    "a =[2,5,8]\n",
    "\n",
    "print (str(a)[0])\n"
   ]
  },
  {
   "cell_type": "code",
   "execution_count": 3,
   "metadata": {},
   "outputs": [
    {
     "name": "stdout",
     "output_type": "stream",
     "text": [
      "Help on function dot in module pandas.core.frame:\n",
      "\n",
      "dot(self, other)\n",
      "    Matrix multiplication with DataFrame or Series objects.  Can also be\n",
      "    called using `self @ other` in Python >= 3.5.\n",
      "    \n",
      "    Parameters\n",
      "    ----------\n",
      "    other : DataFrame or Series\n",
      "    \n",
      "    Returns\n",
      "    -------\n",
      "    dot_product : DataFrame or Series\n",
      "\n"
     ]
    }
   ],
   "source": [
    "import pandas as pd\n"
   ]
  },
  {
   "cell_type": "code",
   "execution_count": 6,
   "metadata": {},
   "outputs": [
    {
     "data": {
      "text/html": [
       "<div>\n",
       "<style scoped>\n",
       "    .dataframe tbody tr th:only-of-type {\n",
       "        vertical-align: middle;\n",
       "    }\n",
       "\n",
       "    .dataframe tbody tr th {\n",
       "        vertical-align: top;\n",
       "    }\n",
       "\n",
       "    .dataframe thead th {\n",
       "        text-align: right;\n",
       "    }\n",
       "</style>\n",
       "<table border=\"1\" class=\"dataframe\">\n",
       "  <thead>\n",
       "    <tr style=\"text-align: right;\">\n",
       "      <th></th>\n",
       "      <th>0</th>\n",
       "    </tr>\n",
       "  </thead>\n",
       "  <tbody>\n",
       "    <tr>\n",
       "      <th>0</th>\n",
       "      <td>4</td>\n",
       "    </tr>\n",
       "    <tr>\n",
       "      <th>1</th>\n",
       "      <td>0</td>\n",
       "    </tr>\n",
       "    <tr>\n",
       "      <th>2</th>\n",
       "      <td>7</td>\n",
       "    </tr>\n",
       "    <tr>\n",
       "      <th>3</th>\n",
       "      <td>9</td>\n",
       "    </tr>\n",
       "    <tr>\n",
       "      <th>4</th>\n",
       "      <td>6</td>\n",
       "    </tr>\n",
       "  </tbody>\n",
       "</table>\n",
       "</div>"
      ],
      "text/plain": [
       "   0\n",
       "0  4\n",
       "1  0\n",
       "2  7\n",
       "3  9\n",
       "4  6"
      ]
     },
     "execution_count": 6,
     "metadata": {},
     "output_type": "execute_result"
    }
   ],
   "source": [
    "a = [3,5,71,8,5,4,96]\n",
    "d =[4,0,7,9,6]\n",
    "c = pd.DataFrame(a)\n",
    "e = pd.DataFrame(d)\n",
    "\n",
    "e"
   ]
  },
  {
   "cell_type": "code",
   "execution_count": 7,
   "metadata": {},
   "outputs": [
    {
     "data": {
      "text/html": [
       "<div>\n",
       "<style scoped>\n",
       "    .dataframe tbody tr th:only-of-type {\n",
       "        vertical-align: middle;\n",
       "    }\n",
       "\n",
       "    .dataframe tbody tr th {\n",
       "        vertical-align: top;\n",
       "    }\n",
       "\n",
       "    .dataframe thead th {\n",
       "        text-align: right;\n",
       "    }\n",
       "</style>\n",
       "<table border=\"1\" class=\"dataframe\">\n",
       "  <thead>\n",
       "    <tr style=\"text-align: right;\">\n",
       "      <th></th>\n",
       "      <th>0</th>\n",
       "    </tr>\n",
       "  </thead>\n",
       "  <tbody>\n",
       "    <tr>\n",
       "      <th>0</th>\n",
       "      <td>4</td>\n",
       "    </tr>\n",
       "    <tr>\n",
       "      <th>1</th>\n",
       "      <td>0</td>\n",
       "    </tr>\n",
       "    <tr>\n",
       "      <th>2</th>\n",
       "      <td>7</td>\n",
       "    </tr>\n",
       "    <tr>\n",
       "      <th>3</th>\n",
       "      <td>9</td>\n",
       "    </tr>\n",
       "    <tr>\n",
       "      <th>4</th>\n",
       "      <td>6</td>\n",
       "    </tr>\n",
       "  </tbody>\n",
       "</table>\n",
       "</div>"
      ],
      "text/plain": [
       "   0\n",
       "0  4\n",
       "1  0\n",
       "2  7\n",
       "3  9\n",
       "4  6"
      ]
     },
     "execution_count": 7,
     "metadata": {},
     "output_type": "execute_result"
    }
   ],
   "source": [
    "e"
   ]
  }
 ],
 "metadata": {
  "kernelspec": {
   "display_name": "Python 3",
   "language": "python",
   "name": "python3"
  },
  "language_info": {
   "codemirror_mode": {
    "name": "ipython",
    "version": 3
   },
   "file_extension": ".py",
   "mimetype": "text/x-python",
   "name": "python",
   "nbconvert_exporter": "python",
   "pygments_lexer": "ipython3",
   "version": "3.6.5"
  }
 },
 "nbformat": 4,
 "nbformat_minor": 2
}
